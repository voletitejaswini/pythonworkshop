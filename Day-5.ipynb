{
 "cells": [
  {
   "cell_type": "markdown",
   "metadata": {},
   "source": [
    "# 1. Regular Expressions\n",
    "\n",
    "# 2. OOPS\n",
    "\n",
    "# 3. Numpy\n",
    "\n",
    "# 4. Matplotlib\n",
    "\n",
    "# 5. Pandas"
   ]
  },
  {
   "cell_type": "markdown",
   "metadata": {},
   "source": [
    "# Regular Expressions\n",
    "\n",
    "- To check the data is valid or not.\n",
    "\n",
    "- data filters.\n",
    "\n"
   ]
  },
  {
   "cell_type": "code",
   "execution_count": 3,
   "metadata": {},
   "outputs": [
    {
     "name": "stdout",
     "output_type": "stream",
     "text": [
      "<class 'str'>\n",
      "<class 'str'>\n",
      "aca\n",
      "<class 'str'>\n"
     ]
    }
   ],
   "source": [
    "l=['abc','aca','adc']\n",
    "for i in l:\n",
    "    print(type(i))\n",
    "    if i.endswith('a'):\n",
    "        print(i)"
   ]
  },
  {
   "cell_type": "code",
   "execution_count": 4,
   "metadata": {},
   "outputs": [],
   "source": [
    "import re"
   ]
  },
  {
   "cell_type": "code",
   "execution_count": 5,
   "metadata": {},
   "outputs": [
    {
     "data": {
      "text/plain": [
       "['A',\n",
       " 'ASCII',\n",
       " 'DEBUG',\n",
       " 'DOTALL',\n",
       " 'I',\n",
       " 'IGNORECASE',\n",
       " 'L',\n",
       " 'LOCALE',\n",
       " 'M',\n",
       " 'MULTILINE',\n",
       " 'RegexFlag',\n",
       " 'S',\n",
       " 'Scanner',\n",
       " 'T',\n",
       " 'TEMPLATE',\n",
       " 'U',\n",
       " 'UNICODE',\n",
       " 'VERBOSE',\n",
       " 'X',\n",
       " '_MAXCACHE',\n",
       " '__all__',\n",
       " '__builtins__',\n",
       " '__cached__',\n",
       " '__doc__',\n",
       " '__file__',\n",
       " '__loader__',\n",
       " '__name__',\n",
       " '__package__',\n",
       " '__spec__',\n",
       " '__version__',\n",
       " '_alphanum_bytes',\n",
       " '_alphanum_str',\n",
       " '_cache',\n",
       " '_compile',\n",
       " '_compile_repl',\n",
       " '_expand',\n",
       " '_locale',\n",
       " '_pattern_type',\n",
       " '_pickle',\n",
       " '_subx',\n",
       " 'compile',\n",
       " 'copyreg',\n",
       " 'enum',\n",
       " 'error',\n",
       " 'escape',\n",
       " 'findall',\n",
       " 'finditer',\n",
       " 'fullmatch',\n",
       " 'functools',\n",
       " 'match',\n",
       " 'purge',\n",
       " 'search',\n",
       " 'split',\n",
       " 'sre_compile',\n",
       " 'sre_parse',\n",
       " 'sub',\n",
       " 'subn',\n",
       " 'template']"
      ]
     },
     "execution_count": 5,
     "metadata": {},
     "output_type": "execute_result"
    }
   ],
   "source": [
    "dir(re)"
   ]
  },
  {
   "cell_type": "markdown",
   "metadata": {},
   "source": [
    "# Syntax for Regular Expression\n",
    "\n",
    "- re.methodname(pattern,data)\n",
    "\n",
    "- Pattern is format of required data.\n",
    "\n",
    "- data is given values."
   ]
  },
  {
   "cell_type": "code",
   "execution_count": 7,
   "metadata": {},
   "outputs": [
    {
     "data": {
      "text/plain": [
       "<_sre.SRE_Match object; span=(0, 1), match='a'>"
      ]
     },
     "execution_count": 7,
     "metadata": {},
     "output_type": "execute_result"
    }
   ],
   "source": [
    "# Search method\n",
    "\n",
    "\n",
    "s='aabcdaa'\n",
    "re.search('a',s)"
   ]
  },
  {
   "cell_type": "code",
   "execution_count": 14,
   "metadata": {},
   "outputs": [
    {
     "data": {
      "text/plain": [
       "<_sre.SRE_Match object; span=(0, 2), match='aa'>"
      ]
     },
     "execution_count": 14,
     "metadata": {},
     "output_type": "execute_result"
    }
   ],
   "source": [
    "s='aabcdaa'\n",
    "re.match('aa',s)"
   ]
  },
  {
   "cell_type": "code",
   "execution_count": 15,
   "metadata": {},
   "outputs": [
    {
     "data": {
      "text/plain": [
       "['aa', 'aa']"
      ]
     },
     "execution_count": 15,
     "metadata": {},
     "output_type": "execute_result"
    }
   ],
   "source": [
    "s='aabcdaa'\n",
    "re.findall('aa',s)"
   ]
  },
  {
   "cell_type": "markdown",
   "metadata": {},
   "source": [
    "# Special Symbols\n",
    "\n",
    "- .(dot):- It matches any single character.\n"
   ]
  },
  {
   "cell_type": "code",
   "execution_count": 18,
   "metadata": {},
   "outputs": [
    {
     "name": "stdout",
     "output_type": "stream",
     "text": [
      "aabd\n",
      "cda\n",
      "aaa\n",
      "abcd\n"
     ]
    }
   ],
   "source": [
    "s=['aabd','cda','aaa','abcd','']\n",
    "for i in s:\n",
    "    if re.search('.',i):\n",
    "        print(i)"
   ]
  },
  {
   "cell_type": "code",
   "execution_count": 19,
   "metadata": {},
   "outputs": [
    {
     "name": "stdout",
     "output_type": "stream",
     "text": [
      "cda\n",
      "aaa\n"
     ]
    }
   ],
   "source": [
    "s=['aabd','cda','aaa','abcd','']\n",
    "for i in s:\n",
    "    if len(i)==3:\n",
    "        print(i)"
   ]
  },
  {
   "cell_type": "code",
   "execution_count": 20,
   "metadata": {},
   "outputs": [
    {
     "name": "stdout",
     "output_type": "stream",
     "text": [
      "ad\n",
      "cda\n",
      "aaa\n"
     ]
    }
   ],
   "source": [
    "s=['ad','cda','aaa','abcd','']\n",
    "for i in s:\n",
    "    if len(i)==3 or len(i)==2:\n",
    "        print(i)"
   ]
  },
  {
   "cell_type": "code",
   "execution_count": 23,
   "metadata": {},
   "outputs": [
    {
     "name": "stdout",
     "output_type": "stream",
     "text": [
      "abc\n",
      "def\n",
      "hig\n",
      "abaa\n"
     ]
    }
   ],
   "source": [
    "s=['abc','def','hig','abaa','']\n",
    "for i in s:\n",
    "    if re.search('...',i):\n",
    "        print(i)"
   ]
  },
  {
   "cell_type": "markdown",
   "metadata": {},
   "source": [
    "#  *(star)\n",
    "\n",
    "- min value is '0' and max value."
   ]
  },
  {
   "cell_type": "code",
   "execution_count": 24,
   "metadata": {},
   "outputs": [
    {
     "name": "stdout",
     "output_type": "stream",
     "text": [
      "abc\n",
      "def\n",
      "hig\n",
      "abaa\n",
      "\n"
     ]
    }
   ],
   "source": [
    "s=['abc','def','hig','abaa','']\n",
    "for i in s:\n",
    "    if re.search('.*',i):\n",
    "        print(i)"
   ]
  },
  {
   "cell_type": "markdown",
   "metadata": {},
   "source": [
    "# +(Plus)\n",
    "\n",
    "- min value is 1 and max value any."
   ]
  },
  {
   "cell_type": "code",
   "execution_count": 25,
   "metadata": {},
   "outputs": [
    {
     "name": "stdout",
     "output_type": "stream",
     "text": [
      "abc\n",
      "abaa\n"
     ]
    }
   ],
   "source": [
    "s=['abc','def','hig','abaa','']\n",
    "for i in s:\n",
    "    if re.search('a+',i):\n",
    "        print(i)"
   ]
  },
  {
   "cell_type": "markdown",
   "metadata": {},
   "source": [
    "# ^(Cap)\n",
    "\n",
    "- starts with\n",
    "\n",
    "# $(Dollar)\n",
    "\n",
    "- ends with\n",
    "\n",
    "# \\d :\n",
    "\n",
    "- digits\n",
    "\n",
    "# [] :\n",
    "\n",
    "- Specific Values\n",
    "\n",
    "# {} :\n",
    "\n",
    "- min,max values"
   ]
  },
  {
   "cell_type": "code",
   "execution_count": 26,
   "metadata": {},
   "outputs": [
    {
     "name": "stdout",
     "output_type": "stream",
     "text": [
      "['abc', '123', 'hi', '456']\n"
     ]
    }
   ],
   "source": [
    "s='abc 123 hi 456'\n",
    "l=s.split()\n",
    "print(l)\n"
   ]
  },
  {
   "cell_type": "code",
   "execution_count": 31,
   "metadata": {},
   "outputs": [
    {
     "name": "stdout",
     "output_type": "stream",
     "text": [
      "['123', '456']\n"
     ]
    },
    {
     "data": {
      "text/plain": [
       "579"
      ]
     },
     "execution_count": 31,
     "metadata": {},
     "output_type": "execute_result"
    }
   ],
   "source": [
    "s='abc 123 hi 456'\n",
    "pattern='\\d+'\n",
    "li=re.findall(pattern,s)\n",
    "print(li)\n",
    "sum(list(map(int,li)))"
   ]
  },
  {
   "cell_type": "code",
   "execution_count": 35,
   "metadata": {},
   "outputs": [],
   "source": [
    "names=['Teju','Soundarya','Gayathri','Niha','Puji']\n",
    "pattern='^a.+'\n",
    "for name in names:\n",
    "    if re.match(pattern,name):\n",
    "        print(name)"
   ]
  },
  {
   "cell_type": "code",
   "execution_count": 39,
   "metadata": {},
   "outputs": [
    {
     "name": "stdout",
     "output_type": "stream",
     "text": [
      "Soundarya\n",
      "Niha\n"
     ]
    }
   ],
   "source": [
    "names=['Teju','Soundarya','Gayathri','Niha','Puji']\n",
    "pattern='^a.{3}$'\n",
    "pattern1='^.+[ya]$'\n",
    "for name in names:\n",
    "    if re.match(pattern1,name):\n",
    "        print(name)"
   ]
  },
  {
   "cell_type": "code",
   "execution_count": 44,
   "metadata": {},
   "outputs": [
    {
     "name": "stdout",
     "output_type": "stream",
     "text": [
      "+917893752764\n"
     ]
    }
   ],
   "source": [
    "# How to validate a phone number\n",
    "\n",
    "# 1. 10 digits\n",
    "\n",
    "# 2. starts with 6-9\n",
    "\n",
    "numbers=['9110521642','+917893752764','8522914666','9989005747','8919729577']\n",
    "pattern='^(\\+91)[6-9]\\d{9}$'\n",
    "for number in numbers:\n",
    "    if re.match(pattern,number):\n",
    "        print(number)"
   ]
  },
  {
   "cell_type": "code",
   "execution_count": 50,
   "metadata": {},
   "outputs": [
    {
     "name": "stdout",
     "output_type": "stream",
     "text": [
      "Enter mail id: abc12@gmail.com\n",
      "abc12@gmail.com\n"
     ]
    }
   ],
   "source": [
    "# How to validate Email\n",
    "\n",
    "# 1. First starts with any alphabet.\n",
    "\n",
    "# 2. Any digits.\n",
    "\n",
    "# 3. Gmail.com\n",
    "\n",
    "email=input(\"Enter mail id: \")\n",
    "pattern='^[A-Za-z]{1,15}\\d{1,10}[@](gmail.com)$'\n",
    "if re.match(pattern,email):\n",
    "    print(email)"
   ]
  },
  {
   "cell_type": "markdown",
   "metadata": {},
   "source": [
    "# OOP'S\n",
    "\n",
    "-> class:-blue print or model of a object.\n",
    "\n",
    "-> object:-physical entity which is having behaviour and action.\n",
    "\n",
    "-> Consturctor:-special method which is used to create instance variables."
   ]
  },
  {
   "cell_type": "code",
   "execution_count": 51,
   "metadata": {},
   "outputs": [],
   "source": [
    "# create a class\n",
    "# class classname:\n",
    "      #variables\n",
    "     # methods\n",
    "    "
   ]
  },
  {
   "cell_type": "code",
   "execution_count": 52,
   "metadata": {},
   "outputs": [],
   "source": [
    "# how to create a class\n",
    "class student:\n",
    "    pass"
   ]
  },
  {
   "cell_type": "code",
   "execution_count": 54,
   "metadata": {},
   "outputs": [
    {
     "name": "stdout",
     "output_type": "stream",
     "text": [
      "10\n"
     ]
    }
   ],
   "source": [
    "class students:\n",
    "    x=10\n",
    "    print(students.x)"
   ]
  },
  {
   "cell_type": "code",
   "execution_count": 55,
   "metadata": {},
   "outputs": [],
   "source": [
    "#create an object\n",
    "#reference variable = className()\n",
    "s=students()"
   ]
  },
  {
   "cell_type": "code",
   "execution_count": 56,
   "metadata": {},
   "outputs": [
    {
     "data": {
      "text/plain": [
       "10"
      ]
     },
     "execution_count": 56,
     "metadata": {},
     "output_type": "execute_result"
    }
   ],
   "source": [
    "s.x"
   ]
  },
  {
   "cell_type": "code",
   "execution_count": 58,
   "metadata": {},
   "outputs": [
    {
     "name": "stdout",
     "output_type": "stream",
     "text": [
      "10\n",
      "helloteja\n"
     ]
    }
   ],
   "source": [
    "class students:\n",
    "    x = 10\n",
    "    def display(self,name):\n",
    "        print('hello{}'.format(name))\n",
    "s = students()\n",
    "print(s.x)\n",
    "s.display('teja')"
   ]
  },
  {
   "cell_type": "code",
   "execution_count": 78,
   "metadata": {},
   "outputs": [
    {
     "name": "stdout",
     "output_type": "stream",
     "text": [
      "this is constructor....\n",
      "10\n",
      "this is constructor....\n",
      "this is constructor....\n",
      "20\n",
      "this is method...\n",
      "30\n"
     ]
    }
   ],
   "source": [
    "#how to create a constructor\n",
    "\n",
    "class students:\n",
    "    x=10#class variable or static variable\n",
    "    def __init__(self):\n",
    "        self.y = 20#instance variable\n",
    "        print('this is constructor....')\n",
    "    def m1(self):\n",
    "        z = 30#local variable\n",
    "        print('this is method...')\n",
    "        print(z)\n",
    "s = students()\n",
    "print(s.x)\n",
    "s.__init__()\n",
    "s1 = students()\n",
    "print(s.y)\n",
    "s1.m1()"
   ]
  },
  {
   "cell_type": "code",
   "execution_count": 80,
   "metadata": {},
   "outputs": [
    {
     "name": "stdout",
     "output_type": "stream",
     "text": [
      "this is constructor....\n",
      "10\n"
     ]
    }
   ],
   "source": [
    "#how to create a constructor\n",
    "\n",
    "class students:\n",
    "    x=10#class variable or static variable\n",
    "    def __init__(self,name):\n",
    "        self.name = name#instance variable\n",
    "        print('this is constructor....')\n",
    "    def m1(self):\n",
    "        z = 30#local variable\n",
    "        print('this is method...')\n",
    "        print('my name is {}'.format(self,name))\n",
    "        print(z)\n",
    "s = students('teja')\n",
    "print(s.x)"
   ]
  },
  {
   "cell_type": "code",
   "execution_count": null,
   "metadata": {},
   "outputs": [],
   "source": []
  }
 ],
 "metadata": {
  "kernelspec": {
   "display_name": "Python 3",
   "language": "python",
   "name": "python3"
  },
  "language_info": {
   "codemirror_mode": {
    "name": "ipython",
    "version": 3
   },
   "file_extension": ".py",
   "mimetype": "text/x-python",
   "name": "python",
   "nbconvert_exporter": "python",
   "pygments_lexer": "ipython3",
   "version": "3.6.5"
  }
 },
 "nbformat": 4,
 "nbformat_minor": 4
}
