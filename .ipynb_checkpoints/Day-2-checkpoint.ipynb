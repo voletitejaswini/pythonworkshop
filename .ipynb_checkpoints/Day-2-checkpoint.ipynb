{
 "cells": [
  {
   "cell_type": "markdown",
   "metadata": {},
   "source": [
    "# FUNCTIONS"
   ]
  },
  {
   "cell_type": "markdown",
   "metadata": {},
   "source": [
    "* advantage is  \n",
    "1. code reusability.\n",
    "2. size decreases\n",
    "\n",
    "# Types of Functions\n",
    "\n",
    "1. predefined functions\n",
    " \n",
    "2. user defined functions\n",
    "\n",
    "3. special functions\n",
    "\n",
    "# user defined functions\n",
    "\n",
    "- Based on return type\n",
    " \n",
    "1. without arg and without return value\n",
    "2. without arg and with return value\n",
    "3. with arg and without return value\n",
    "4. with arg and with return value\n",
    "\n",
    "- Based on arguments\n",
    "\n",
    "1. default arg\n",
    "2. required arg\n",
    "3. variable length arg\n",
    "4. keyword arg\n"
   ]
  },
  {
   "cell_type": "markdown",
   "metadata": {},
   "source": [
    "# how to define user defined functions\n",
    "\n",
    "1. function creation\n",
    "\n",
    "* function declaration\n",
    "\n",
    "syntax :- def FunctionName(arg):\n",
    "\n",
    "* function definition\n",
    "\n",
    "syntax :- statements\n",
    "\n",
    "2. function calling: \n",
    "\n",
    "   by using FunctionName"
   ]
  },
  {
   "cell_type": "code",
   "execution_count": 3,
   "metadata": {},
   "outputs": [
    {
     "name": "stdout",
     "output_type": "stream",
     "text": [
      "sample function\n"
     ]
    }
   ],
   "source": [
    "def sample():\n",
    "    print('sample function')\n",
    "sample()  "
   ]
  },
  {
   "cell_type": "code",
   "execution_count": 1,
   "metadata": {},
   "outputs": [
    {
     "name": "stdout",
     "output_type": "stream",
     "text": [
      "34\n",
      "21\n",
      "adding of 34 and 21 is 55\n"
     ]
    }
   ],
   "source": [
    "# Based on return type\n",
    "\n",
    "#1. without arg and without return value\n",
    "\n",
    "def fun():\n",
    "    s1=int(input())\n",
    "    s2=int(input())\n",
    "    print('adding of {} and {} is {}'.format(s1,s2,s1+s2))\n",
    "fun()"
   ]
  },
  {
   "cell_type": "code",
   "execution_count": 3,
   "metadata": {},
   "outputs": [
    {
     "name": "stdout",
     "output_type": "stream",
     "text": [
      "18\n",
      "26\n",
      "adding of 18 and 26 is 44\n",
      "44\n"
     ]
    }
   ],
   "source": [
    "#2. without arg and with return value\n",
    "\n",
    "\n",
    "def fun1():\n",
    "    s1=int(input())\n",
    "    s2=int(input())\n",
    "    print('adding of {} and {} is {}'.format(s1,s2,s1+s2))\n",
    "    return s1+s2\n",
    "s=fun1()\n",
    "print(s)"
   ]
  },
  {
   "cell_type": "code",
   "execution_count": 6,
   "metadata": {},
   "outputs": [
    {
     "name": "stdout",
     "output_type": "stream",
     "text": [
      "mul of 34 and 21 is 714\n"
     ]
    }
   ],
   "source": [
    "#3. with arg and without return value\n",
    "\n",
    "def fun2(a,b):\n",
    "    print('mul of {} and {} is {}'.format(a,b,a*b))\n",
    "fun2(34,21)\n"
   ]
  },
  {
   "cell_type": "code",
   "execution_count": 7,
   "metadata": {},
   "outputs": [
    {
     "name": "stdout",
     "output_type": "stream",
     "text": [
      "mul of 34 and 21 is 714\n",
      "div is 1.619047619047619\n"
     ]
    }
   ],
   "source": [
    "#4. with arg and with return value\n",
    "\n",
    "def fun3(a,b):\n",
    "    print('mul of {} and {} is {}'.format(a,b,a*b))\n",
    "    return a/b\n",
    "s=fun3(34,21)\n",
    "print('div is {}'.format(s))\n"
   ]
  },
  {
   "cell_type": "code",
   "execution_count": 2,
   "metadata": {},
   "outputs": [
    {
     "data": {
      "text/plain": [
       "100000000000000000000"
      ]
     },
     "execution_count": 2,
     "metadata": {},
     "output_type": "execute_result"
    }
   ],
   "source": [
    "# 1. Default arguments - These are the arguments in which the values are passed at the time of function declaration.\n",
    "\n",
    "def default(a=10,b=20):\n",
    "    return a**b\n",
    "default()"
   ]
  },
  {
   "cell_type": "code",
   "execution_count": 3,
   "metadata": {},
   "outputs": [
    {
     "data": {
      "text/plain": [
       "16"
      ]
     },
     "execution_count": 3,
     "metadata": {},
     "output_type": "execute_result"
    }
   ],
   "source": [
    "def default(a=3,b=4):\n",
    "    return a**b\n",
    "default(2) #for updating a value we have to take like this."
   ]
  },
  {
   "cell_type": "code",
   "execution_count": 5,
   "metadata": {},
   "outputs": [
    {
     "data": {
      "text/plain": [
       "32"
      ]
     },
     "execution_count": 5,
     "metadata": {},
     "output_type": "execute_result"
    }
   ],
   "source": [
    "def default(a=3,b=4):\n",
    "    return a**b\n",
    "default(2,5) #for updating both a and b values."
   ]
  },
  {
   "cell_type": "code",
   "execution_count": 7,
   "metadata": {},
   "outputs": [
    {
     "data": {
      "text/plain": [
       "243"
      ]
     },
     "execution_count": 7,
     "metadata": {},
     "output_type": "execute_result"
    }
   ],
   "source": [
    "def default(a=3,b=4):\n",
    "    return a**b\n",
    "default(b=5) #for updating b value,b=5 is called keyword arugument."
   ]
  },
  {
   "cell_type": "code",
   "execution_count": 6,
   "metadata": {},
   "outputs": [
    {
     "name": "stdout",
     "output_type": "stream",
     "text": [
      "21 34 26\n"
     ]
    }
   ],
   "source": [
    "# 2. Required arguments or positional arguments\n",
    "\n",
    "def required(a,b,c=10): # here a,b are required and c is default argument.\n",
    "    print(a,b,c)\n",
    "required(21,34,26) #here c value is updated."
   ]
  },
  {
   "cell_type": "code",
   "execution_count": 9,
   "metadata": {},
   "outputs": [
    {
     "ename": "SyntaxError",
     "evalue": "non-default argument follows default argument (<ipython-input-9-a20046998c25>, line 1)",
     "output_type": "error",
     "traceback": [
      "\u001b[1;36m  File \u001b[1;32m\"<ipython-input-9-a20046998c25>\"\u001b[1;36m, line \u001b[1;32m1\u001b[0m\n\u001b[1;33m    def required(a=10,b,c): # here c,b are required and a is default argument.\u001b[0m\n\u001b[1;37m                ^\u001b[0m\n\u001b[1;31mSyntaxError\u001b[0m\u001b[1;31m:\u001b[0m non-default argument follows default argument\n"
     ]
    }
   ],
   "source": [
    "def required(a=10,b,c): # here c,b are required and a is default argument.\n",
    "    print(a,b,c)\n",
    "required(21,34,26)# it shows error bcz while writing we have to first give the required arguments rather than default arguments. "
   ]
  },
  {
   "cell_type": "code",
   "execution_count": 14,
   "metadata": {},
   "outputs": [
    {
     "data": {
      "text/plain": [
       "107"
      ]
     },
     "execution_count": 14,
     "metadata": {},
     "output_type": "execute_result"
    }
   ],
   "source": [
    "# 3. variable length arguments\n",
    "\n",
    "def Var_Len(*a):\n",
    "    sum=0\n",
    "    for i in a:\n",
    "        sum+=i\n",
    "    return sum    \n",
    "Var_Len(21,34,26,18,8)"
   ]
  },
  {
   "cell_type": "code",
   "execution_count": 15,
   "metadata": {},
   "outputs": [
    {
     "data": {
      "text/plain": [
       "107"
      ]
     },
     "execution_count": 15,
     "metadata": {},
     "output_type": "execute_result"
    }
   ],
   "source": [
    "Var_Len(21,34,26,18,8) "
   ]
  },
  {
   "cell_type": "code",
   "execution_count": 25,
   "metadata": {},
   "outputs": [
    {
     "name": "stdout",
     "output_type": "stream",
     "text": [
      "hello teju welcome to pace college\n"
     ]
    }
   ],
   "source": [
    "# 4. Keyword arguments\n",
    "\n",
    "def KeyWord(name,college):\n",
    "    print('hello {} welcome to {} college'.format(name,college))\n",
    "KeyWord(name='teju',college='pace')  "
   ]
  },
  {
   "cell_type": "code",
   "execution_count": 26,
   "metadata": {},
   "outputs": [
    {
     "name": "stdout",
     "output_type": "stream",
     "text": [
      "{'name': ['teju', 'sou', 'kg']}\n"
     ]
    }
   ],
   "source": [
    "def Key2(**name): # ** represents keyword.\n",
    "    print(name)\n",
    "Key2(name=['teju','sou','kg'])    "
   ]
  },
  {
   "cell_type": "code",
   "execution_count": 27,
   "metadata": {},
   "outputs": [
    {
     "name": "stdout",
     "output_type": "stream",
     "text": [
      "Enter the value: 5\n",
      "Prime number\n"
     ]
    }
   ],
   "source": [
    "# Prime Numbers\n",
    "\n",
    "t=int(input(\"Enter the value: \"))\n",
    "if t%1==0:\n",
    "    print(\"Prime number\")\n",
    "else:\n",
    "    print(\"Composite number\")"
   ]
  },
  {
   "cell_type": "code",
   "execution_count": 6,
   "metadata": {},
   "outputs": [
    {
     "name": "stdout",
     "output_type": "stream",
     "text": [
      "10 * 1 = 10\n",
      "\n",
      "10 * 2 = 20\n",
      "\n",
      "10 * 3 = 30\n",
      "\n",
      "10 * 4 = 40\n",
      "\n",
      "10 * 5 = 50\n",
      "\n",
      "10 * 6 = 60\n",
      "\n",
      "10 * 7 = 70\n",
      "\n",
      "10 * 8 = 80\n",
      "\n",
      "10 * 9 = 90\n",
      "\n",
      "10 * 10 = 100\n",
      "\n",
      "10 * 11 = 110\n",
      "\n",
      "10 * 12 = 120\n",
      "\n",
      "10 * 13 = 130\n",
      "\n",
      "10 * 14 = 140\n",
      "\n",
      "10 * 15 = 150\n",
      "\n"
     ]
    }
   ],
   "source": [
    "# To print Multiple Tables\n",
    "\n",
    "def table(x,y):\n",
    "    for i in range(1,y+1):\n",
    "        print('{} * {} = {}'.format(x,i,x*i))\n",
    "        print()\n",
    "table(10,15)        "
   ]
  },
  {
   "cell_type": "code",
   "execution_count": 9,
   "metadata": {},
   "outputs": [
    {
     "name": "stdout",
     "output_type": "stream",
     "text": [
      "Enter Table upto: 6\n",
      "Enter Table length: 10\n",
      "1 * 1 = 1\n",
      "\n",
      "1 * 2 = 2\n",
      "\n",
      "1 * 3 = 3\n",
      "\n",
      "1 * 4 = 4\n",
      "\n",
      "1 * 5 = 5\n",
      "\n",
      "1 * 6 = 6\n",
      "\n",
      "1 * 7 = 7\n",
      "\n",
      "1 * 8 = 8\n",
      "\n",
      "1 * 9 = 9\n",
      "\n",
      "1 * 10 = 10\n",
      "\n",
      "2 * 1 = 2\n",
      "\n",
      "2 * 2 = 4\n",
      "\n",
      "2 * 3 = 6\n",
      "\n",
      "2 * 4 = 8\n",
      "\n",
      "2 * 5 = 10\n",
      "\n",
      "2 * 6 = 12\n",
      "\n",
      "2 * 7 = 14\n",
      "\n",
      "2 * 8 = 16\n",
      "\n",
      "2 * 9 = 18\n",
      "\n",
      "2 * 10 = 20\n",
      "\n",
      "3 * 1 = 3\n",
      "\n",
      "3 * 2 = 6\n",
      "\n",
      "3 * 3 = 9\n",
      "\n",
      "3 * 4 = 12\n",
      "\n",
      "3 * 5 = 15\n",
      "\n",
      "3 * 6 = 18\n",
      "\n",
      "3 * 7 = 21\n",
      "\n",
      "3 * 8 = 24\n",
      "\n",
      "3 * 9 = 27\n",
      "\n",
      "3 * 10 = 30\n",
      "\n",
      "4 * 1 = 4\n",
      "\n",
      "4 * 2 = 8\n",
      "\n",
      "4 * 3 = 12\n",
      "\n",
      "4 * 4 = 16\n",
      "\n",
      "4 * 5 = 20\n",
      "\n",
      "4 * 6 = 24\n",
      "\n",
      "4 * 7 = 28\n",
      "\n",
      "4 * 8 = 32\n",
      "\n",
      "4 * 9 = 36\n",
      "\n",
      "4 * 10 = 40\n",
      "\n",
      "5 * 1 = 5\n",
      "\n",
      "5 * 2 = 10\n",
      "\n",
      "5 * 3 = 15\n",
      "\n",
      "5 * 4 = 20\n",
      "\n",
      "5 * 5 = 25\n",
      "\n",
      "5 * 6 = 30\n",
      "\n",
      "5 * 7 = 35\n",
      "\n",
      "5 * 8 = 40\n",
      "\n",
      "5 * 9 = 45\n",
      "\n",
      "5 * 10 = 50\n",
      "\n"
     ]
    }
   ],
   "source": [
    "n=int(input(\"Enter Table upto: \")) \n",
    "m=int(input(\"Enter Table length: \"))\n",
    "for i in range(1,n):\n",
    "    table(i,m)"
   ]
  },
  {
   "cell_type": "code",
   "execution_count": 38,
   "metadata": {},
   "outputs": [
    {
     "name": "stdout",
     "output_type": "stream",
     "text": [
      "0 2 4 6 8 10 12 14 16 18 20 22 24 26 28 30 32 34 36 38 40 42 44 46 48 50 52 54 56 58 60 62 64 66 68 70 72 74 76 78 80 82 84 86 88 90 92 94 96 98 100 102 "
     ]
    }
   ],
   "source": [
    "# To print even numbers\n",
    "\n",
    "def Even(start,end):\n",
    "    for i in range(start,end+1):\n",
    "        if i%2==0:\n",
    "            print(i,end =' ') # end is taken to print the values side by side.\n",
    "Even(0,102)        "
   ]
  },
  {
   "cell_type": "code",
   "execution_count": 39,
   "metadata": {},
   "outputs": [
    {
     "name": "stdout",
     "output_type": "stream",
     "text": [
      "1 3 5 7 9 11 13 15 17 19 21 23 25 27 29 31 33 35 37 39 41 43 45 47 49 51 53 55 57 59 61 63 65 67 69 71 73 75 77 79 81 83 85 87 89 91 93 95 97 99 "
     ]
    }
   ],
   "source": [
    "# To print odd numbers\n",
    "\n",
    "def Odd(start,end):\n",
    "    for i in range(start,end+1):\n",
    "        if i%2!=0:\n",
    "            print(i,end =' ') # end is taken to print the values side by side.\n",
    "Odd(0,100)        "
   ]
  },
  {
   "cell_type": "code",
   "execution_count": 47,
   "metadata": {},
   "outputs": [
    {
     "name": "stdout",
     "output_type": "stream",
     "text": [
      "Enter factor number: 34\n",
      "1 2 17 34 "
     ]
    }
   ],
   "source": [
    "# To find the factors of the given number\n",
    "\n",
    "def Factors(num):\n",
    "    for i in range(1,num+1):\n",
    "        if num%i==0:\n",
    "            print(i,end =' ')\n",
    "num=int(input(\"Enter factor number: \"))            \n",
    "Factors(num)            "
   ]
  },
  {
   "cell_type": "code",
   "execution_count": 49,
   "metadata": {},
   "outputs": [
    {
     "data": {
      "text/plain": [
       "6"
      ]
     },
     "execution_count": 49,
     "metadata": {},
     "output_type": "execute_result"
    }
   ],
   "source": [
    "# Perfect numbers - sum of the factors except itself gives the same number.\n",
    "\n",
    "def Sum_Fact(n):\n",
    "    s=0\n",
    "    for i in range(1,n):\n",
    "        if n%i==0:\n",
    "            s+=i\n",
    "    return s\n",
    "Sum_Fact(6)"
   ]
  },
  {
   "cell_type": "code",
   "execution_count": 1,
   "metadata": {},
   "outputs": [
    {
     "data": {
      "text/plain": [
       "362880"
      ]
     },
     "execution_count": 1,
     "metadata": {},
     "output_type": "execute_result"
    }
   ],
   "source": [
    "# Recursive Function\n",
    "\n",
    "def Fact(n):\n",
    "    if n==1 or n==0:\n",
    "        return 1\n",
    "    else:\n",
    "        return n*Fact(n-1)\n",
    "Fact(9)    "
   ]
  },
  {
   "cell_type": "code",
   "execution_count": 3,
   "metadata": {},
   "outputs": [
    {
     "data": {
      "text/plain": [
       "4"
      ]
     },
     "execution_count": 3,
     "metadata": {},
     "output_type": "execute_result"
    }
   ],
   "source": [
    "# To find the number of factors for the given number\n",
    "\n",
    "def Count1(n):\n",
    "    cnt=0\n",
    "    for i in range(1,n+1):\n",
    "        if n%i==0:\n",
    "            cnt+=1\n",
    "    return cnt\n",
    "Count1(6)"
   ]
  },
  {
   "cell_type": "code",
   "execution_count": 5,
   "metadata": {
    "scrolled": true
   },
   "outputs": [
    {
     "name": "stdout",
     "output_type": "stream",
     "text": [
      "34 is not a prime number\n"
     ]
    }
   ],
   "source": [
    "def Count1(n):\n",
    "    cnt=0\n",
    "    for i in range(1,n+1):\n",
    "        if n%i==0:\n",
    "            cnt+=1\n",
    "    return cnt\n",
    "def Is_Prime(n):\n",
    "    if Count1(n)==2:\n",
    "        print(n,'is prime number')\n",
    "    else:\n",
    "        print(n,'is not a prime number')\n",
    "Is_Prime(34)        "
   ]
  },
  {
   "cell_type": "markdown",
   "metadata": {},
   "source": [
    "# Strings \n",
    "\n",
    "1. Collection or group of characters.\n",
    "\n",
    "2. they can be represented by ' ',\" \",''' '''.\n",
    "\n",
    "3. It is an ordered data.\n",
    "\n",
    "4. It is immutable data(i.e is not changable).\n",
    "\n",
    "5. It accepts indexing(position of the character) and slicing \": \"(converting main string into sub string)."
   ]
  },
  {
   "cell_type": "code",
   "execution_count": 10,
   "metadata": {},
   "outputs": [
    {
     "name": "stdout",
     "output_type": "stream",
     "text": [
      "<class 'str'>\n"
     ]
    }
   ],
   "source": [
    "# Type method - tells the data type\n",
    "\n",
    "t='abc'\n",
    "print(type(t))"
   ]
  },
  {
   "cell_type": "markdown",
   "metadata": {},
   "source": [
    "# Indexing\n",
    "\n",
    "1. Forward indexing -> 0 to length(variable)-1\n",
    "\n",
    "2. Reverse indexing -> -1 to -length(variable)\n"
   ]
  },
  {
   "cell_type": "markdown",
   "metadata": {},
   "source": [
    "# Syntax for slicing\n",
    "\n",
    "# var[start_val:end_val:increment]\n"
   ]
  },
  {
   "cell_type": "code",
   "execution_count": 16,
   "metadata": {},
   "outputs": [
    {
     "name": "stdout",
     "output_type": "stream",
     "text": [
      "python programming\n",
      "g\n",
      "gramming\n",
      "python pro\n"
     ]
    }
   ],
   "source": [
    "t='python programming'\n",
    "print(t)\n",
    "print(t[10])\n",
    "print(t[10::])\n",
    "print(t[:10])"
   ]
  },
  {
   "cell_type": "code",
   "execution_count": 18,
   "metadata": {},
   "outputs": [
    {
     "name": "stdout",
     "output_type": "stream",
     "text": [
      "python programming\n"
     ]
    },
    {
     "data": {
      "text/plain": [
       "'pto rgamn'"
      ]
     },
     "execution_count": 18,
     "metadata": {},
     "output_type": "execute_result"
    }
   ],
   "source": [
    "# To print alternative characters in  forward indexing of a string.\n",
    "\n",
    "print(t)\n",
    "t[0:18:2] # here 2 is the step value."
   ]
  },
  {
   "cell_type": "code",
   "execution_count": 20,
   "metadata": {},
   "outputs": [
    {
     "name": "stdout",
     "output_type": "stream",
     "text": [
      "python programming\n",
      "programming\n"
     ]
    },
    {
     "data": {
      "text/plain": [
       "'python'"
      ]
     },
     "execution_count": 20,
     "metadata": {},
     "output_type": "execute_result"
    }
   ],
   "source": [
    "# To print alternative characters in reverse indexing of a string.\n",
    "\n",
    "print(t)\n",
    "print(t[-11:])\n",
    "t[-18:-12]"
   ]
  },
  {
   "cell_type": "code",
   "execution_count": 4,
   "metadata": {},
   "outputs": [
    {
     "name": "stdout",
     "output_type": "stream",
     "text": [
      "Please Enter any Number: 3421\n",
      "\n",
      " Reverse of entered number is =  1243\n"
     ]
    }
   ],
   "source": [
    "# Reverse of the number \n",
    "\n",
    "Number=int(input(\"Please Enter any Number: \"))\n",
    "Reverse=0\n",
    "while(Number>0):\n",
    "    Remainder=Number%10\n",
    "    Reverse=(Reverse*10)+Remainder\n",
    "    Number=Number//10\n",
    "print(\"\\n Reverse of entered number is = \",Reverse)"
   ]
  },
  {
   "cell_type": "code",
   "execution_count": 10,
   "metadata": {},
   "outputs": [
    {
     "name": "stdout",
     "output_type": "stream",
     "text": [
      "gn\n",
      "nohtyp\n",
      "gnimmargorp\n"
     ]
    }
   ],
   "source": [
    "# Reverse of the string\n",
    "\n",
    "s='python programming'\n",
    "print(s[::-12])\n",
    "print(s[0:6][::-1])\n",
    "print(s[7:18][::-1])"
   ]
  },
  {
   "cell_type": "code",
   "execution_count": 17,
   "metadata": {},
   "outputs": [
    {
     "name": "stdout",
     "output_type": "stream",
     "text": [
      "True\n"
     ]
    },
    {
     "data": {
      "text/plain": [
       "False"
      ]
     },
     "execution_count": 17,
     "metadata": {},
     "output_type": "execute_result"
    }
   ],
   "source": [
    "def Palindrome_Check(word):\n",
    "    if word==word[::-1]:\n",
    "        return  True\n",
    "    else:\n",
    "        return False\n",
    "print(Palindrome_Check(\"ROTOR\"))\n",
    "Palindrome_Check('342126')"
   ]
  },
  {
   "cell_type": "code",
   "execution_count": 28,
   "metadata": {},
   "outputs": [
    {
     "name": "stdout",
     "output_type": "stream",
     "text": [
      "nohtyp  programming\n"
     ]
    }
   ],
   "source": [
    "s='python programming'\n",
    "print(s[0:6][::-1]+' '+s[6:18])"
   ]
  },
  {
   "cell_type": "markdown",
   "metadata": {},
   "source": [
    "# METHODS"
   ]
  },
  {
   "cell_type": "code",
   "execution_count": 29,
   "metadata": {},
   "outputs": [
    {
     "data": {
      "text/plain": [
       "['__add__',\n",
       " '__class__',\n",
       " '__contains__',\n",
       " '__delattr__',\n",
       " '__dir__',\n",
       " '__doc__',\n",
       " '__eq__',\n",
       " '__format__',\n",
       " '__ge__',\n",
       " '__getattribute__',\n",
       " '__getitem__',\n",
       " '__getnewargs__',\n",
       " '__gt__',\n",
       " '__hash__',\n",
       " '__init__',\n",
       " '__init_subclass__',\n",
       " '__iter__',\n",
       " '__le__',\n",
       " '__len__',\n",
       " '__lt__',\n",
       " '__mod__',\n",
       " '__mul__',\n",
       " '__ne__',\n",
       " '__new__',\n",
       " '__reduce__',\n",
       " '__reduce_ex__',\n",
       " '__repr__',\n",
       " '__rmod__',\n",
       " '__rmul__',\n",
       " '__setattr__',\n",
       " '__sizeof__',\n",
       " '__str__',\n",
       " '__subclasshook__',\n",
       " 'capitalize',\n",
       " 'casefold',\n",
       " 'center',\n",
       " 'count',\n",
       " 'encode',\n",
       " 'endswith',\n",
       " 'expandtabs',\n",
       " 'find',\n",
       " 'format',\n",
       " 'format_map',\n",
       " 'index',\n",
       " 'isalnum',\n",
       " 'isalpha',\n",
       " 'isdecimal',\n",
       " 'isdigit',\n",
       " 'isidentifier',\n",
       " 'islower',\n",
       " 'isnumeric',\n",
       " 'isprintable',\n",
       " 'isspace',\n",
       " 'istitle',\n",
       " 'isupper',\n",
       " 'join',\n",
       " 'ljust',\n",
       " 'lower',\n",
       " 'lstrip',\n",
       " 'maketrans',\n",
       " 'partition',\n",
       " 'replace',\n",
       " 'rfind',\n",
       " 'rindex',\n",
       " 'rjust',\n",
       " 'rpartition',\n",
       " 'rsplit',\n",
       " 'rstrip',\n",
       " 'split',\n",
       " 'splitlines',\n",
       " 'startswith',\n",
       " 'strip',\n",
       " 'swapcase',\n",
       " 'title',\n",
       " 'translate',\n",
       " 'upper',\n",
       " 'zfill']"
      ]
     },
     "execution_count": 29,
     "metadata": {},
     "output_type": "execute_result"
    }
   ],
   "source": [
    "dir(str)"
   ]
  },
  {
   "cell_type": "code",
   "execution_count": 31,
   "metadata": {},
   "outputs": [
    {
     "name": "stdout",
     "output_type": "stream",
     "text": [
      "p y t h o n   p r o g r a m m i n g "
     ]
    }
   ],
   "source": [
    "s='python programming'\n",
    "for i in s:\n",
    "    print(i,end=' ')"
   ]
  },
  {
   "cell_type": "code",
   "execution_count": 32,
   "metadata": {},
   "outputs": [
    {
     "name": "stdout",
     "output_type": "stream",
     "text": [
      "p y t h o n   p r o g r a m m i n g "
     ]
    }
   ],
   "source": [
    "s='python programming'\n",
    "for i in range(len(s)):\n",
    "    print(s[i],end=' ')"
   ]
  },
  {
   "cell_type": "code",
   "execution_count": 33,
   "metadata": {},
   "outputs": [
    {
     "data": {
      "text/plain": [
       "'Python programming'"
      ]
     },
     "execution_count": 33,
     "metadata": {},
     "output_type": "execute_result"
    }
   ],
   "source": [
    "s='python programming'\n",
    "s.capitalize() # captilaize the 1st letter"
   ]
  },
  {
   "cell_type": "code",
   "execution_count": 35,
   "metadata": {},
   "outputs": [
    {
     "data": {
      "text/plain": [
       "'python programming'"
      ]
     },
     "execution_count": 35,
     "metadata": {},
     "output_type": "execute_result"
    }
   ],
   "source": [
    "s='python programming'\n",
    "s.casefold() # returns all the letters to small"
   ]
  },
  {
   "cell_type": "code",
   "execution_count": 36,
   "metadata": {},
   "outputs": [
    {
     "data": {
      "text/plain": [
       "'python programming'"
      ]
     },
     "execution_count": 36,
     "metadata": {},
     "output_type": "execute_result"
    }
   ],
   "source": [
    "s='python programming'\n",
    "s.lower() # lowers all the letters"
   ]
  },
  {
   "cell_type": "code",
   "execution_count": 39,
   "metadata": {},
   "outputs": [
    {
     "data": {
      "text/plain": [
       "2"
      ]
     },
     "execution_count": 39,
     "metadata": {},
     "output_type": "execute_result"
    }
   ],
   "source": [
    "s='python programming'\n",
    "s.count('p')# counts the no.of times the given sub string is."
   ]
  },
  {
   "cell_type": "code",
   "execution_count": 40,
   "metadata": {},
   "outputs": [
    {
     "data": {
      "text/plain": [
       "'****python programming***'"
      ]
     },
     "execution_count": 40,
     "metadata": {},
     "output_type": "execute_result"
    }
   ],
   "source": [
    "s='python programming'\n",
    "s.center(25,'*') # fills the remaining places which are != the count of the string."
   ]
  },
  {
   "cell_type": "code",
   "execution_count": 41,
   "metadata": {},
   "outputs": [
    {
     "data": {
      "text/plain": [
       "False"
      ]
     },
     "execution_count": 41,
     "metadata": {},
     "output_type": "execute_result"
    }
   ],
   "source": [
    "s='python programming'\n",
    "s.startswith('s')"
   ]
  },
  {
   "cell_type": "code",
   "execution_count": 42,
   "metadata": {},
   "outputs": [
    {
     "data": {
      "text/plain": [
       "True"
      ]
     },
     "execution_count": 42,
     "metadata": {},
     "output_type": "execute_result"
    }
   ],
   "source": [
    "s='python programming'\n",
    "s.endswith('ing')"
   ]
  },
  {
   "cell_type": "code",
   "execution_count": 47,
   "metadata": {},
   "outputs": [
    {
     "name": "stdout",
     "output_type": "stream",
     "text": [
      "0\n",
      "-1\n"
     ]
    }
   ],
   "source": [
    "s='python programming'\n",
    "print(s.find('p')) # starting index of the substring\n",
    "print(s.find('P'))"
   ]
  },
  {
   "cell_type": "code",
   "execution_count": 48,
   "metadata": {},
   "outputs": [
    {
     "data": {
      "text/plain": [
       "4"
      ]
     },
     "execution_count": 48,
     "metadata": {},
     "output_type": "execute_result"
    }
   ],
   "source": [
    "s='python programming'\n",
    "s.index('o') #gives the index"
   ]
  },
  {
   "cell_type": "code",
   "execution_count": 49,
   "metadata": {},
   "outputs": [
    {
     "data": {
      "text/plain": [
       "'Python Programming'"
      ]
     },
     "execution_count": 49,
     "metadata": {},
     "output_type": "execute_result"
    }
   ],
   "source": [
    "s='python programming'\n",
    "s.title()"
   ]
  },
  {
   "cell_type": "code",
   "execution_count": 50,
   "metadata": {},
   "outputs": [
    {
     "data": {
      "text/plain": [
       "'PYTHON PROGRAMMING'"
      ]
     },
     "execution_count": 50,
     "metadata": {},
     "output_type": "execute_result"
    }
   ],
   "source": [
    "s='python programming'\n",
    "s.swapcase()"
   ]
  },
  {
   "cell_type": "code",
   "execution_count": 51,
   "metadata": {},
   "outputs": [
    {
     "data": {
      "text/plain": [
       "False"
      ]
     },
     "execution_count": 51,
     "metadata": {},
     "output_type": "execute_result"
    }
   ],
   "source": [
    "s='python programming'\n",
    "s.isalnum()"
   ]
  },
  {
   "cell_type": "code",
   "execution_count": 53,
   "metadata": {},
   "outputs": [
    {
     "data": {
      "text/plain": [
       "False"
      ]
     },
     "execution_count": 53,
     "metadata": {},
     "output_type": "execute_result"
    }
   ],
   "source": [
    "s='python programming'\n",
    "s.isalpha()"
   ]
  },
  {
   "cell_type": "code",
   "execution_count": 54,
   "metadata": {},
   "outputs": [
    {
     "data": {
      "text/plain": [
       "False"
      ]
     },
     "execution_count": 54,
     "metadata": {},
     "output_type": "execute_result"
    }
   ],
   "source": [
    "s='python programming'\n",
    "s.isdigit()"
   ]
  },
  {
   "cell_type": "code",
   "execution_count": 56,
   "metadata": {},
   "outputs": [
    {
     "data": {
      "text/plain": [
       "'python programming'"
      ]
     },
     "execution_count": 56,
     "metadata": {},
     "output_type": "execute_result"
    }
   ],
   "source": [
    "s=' python programming '\n",
    "s.strip() # Removes the spaces"
   ]
  },
  {
   "cell_type": "code",
   "execution_count": 63,
   "metadata": {},
   "outputs": [
    {
     "name": "stdout",
     "output_type": "stream",
     "text": [
      "['teju', '1357']\n",
      "['t', 'e', 'j', 'u', '@', '1', '3', '5', '7']\n"
     ]
    }
   ],
   "source": [
    "s='teju@1357'\n",
    "print(s.split('@'))\n",
    "print(list(s))"
   ]
  },
  {
   "cell_type": "code",
   "execution_count": 64,
   "metadata": {},
   "outputs": [
    {
     "data": {
      "text/plain": [
       "False"
      ]
     },
     "execution_count": 64,
     "metadata": {},
     "output_type": "execute_result"
    }
   ],
   "source": [
    "s='python programming'\n",
    "s.isspace()"
   ]
  },
  {
   "cell_type": "code",
   "execution_count": null,
   "metadata": {},
   "outputs": [],
   "source": []
  }
 ],
 "metadata": {
  "kernelspec": {
   "display_name": "Python 3",
   "language": "python",
   "name": "python3"
  },
  "language_info": {
   "codemirror_mode": {
    "name": "ipython",
    "version": 3
   },
   "file_extension": ".py",
   "mimetype": "text/x-python",
   "name": "python",
   "nbconvert_exporter": "python",
   "pygments_lexer": "ipython3",
   "version": "3.6.5"
  }
 },
 "nbformat": 4,
 "nbformat_minor": 4
}
